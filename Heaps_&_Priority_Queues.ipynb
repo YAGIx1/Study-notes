{
  "nbformat": 4,
  "nbformat_minor": 0,
  "metadata": {
    "colab": {
      "provenance": [],
      "authorship_tag": "ABX9TyNYiTsxbs+BB5owB4s4/F6s",
      "include_colab_link": true
    },
    "kernelspec": {
      "name": "python3",
      "display_name": "Python 3"
    },
    "language_info": {
      "name": "python"
    }
  },
  "cells": [
    {
      "cell_type": "markdown",
      "metadata": {
        "id": "view-in-github",
        "colab_type": "text"
      },
      "source": [
        "<a href=\"https://colab.research.google.com/github/YAGIx1/Study-notes/blob/main/Heaps_%26_Priority_Queues.ipynb\" target=\"_parent\"><img src=\"https://colab.research.google.com/assets/colab-badge.svg\" alt=\"Open In Colab\"/></a>"
      ]
    },
    {
      "cell_type": "code",
      "execution_count": null,
      "metadata": {
        "colab": {
          "base_uri": "https://localhost:8080/"
        },
        "id": "seYnm4as0ABz",
        "outputId": "167da19d-f55d-4dce-a40f-4b974badf4ea"
      },
      "outputs": [
        {
          "output_type": "execute_result",
          "data": {
            "text/plain": [
              "[-4, 0, 1, 3, 2, 5, 10, 8, 12, 9]"
            ]
          },
          "metadata": {},
          "execution_count": 6
        }
      ],
      "source": [
        "A = [-4, 3, 1, 0, 2, 5, 10, 8, 12, 9]\n",
        "import heapq\n",
        "\n",
        "heapq.heapify(A)\n",
        "A"
      ]
    },
    {
      "cell_type": "markdown",
      "source": [
        "#heap push (insert elements)\n",
        "#Time complexity O(log n)"
      ],
      "metadata": {
        "id": "Z_U1CPJx00Vm"
      }
    },
    {
      "cell_type": "code",
      "source": [
        "heapq.heappush(A, 4)\n",
        "A"
      ],
      "metadata": {
        "colab": {
          "base_uri": "https://localhost:8080/"
        },
        "id": "b-3PDiC91l6o",
        "outputId": "40412bed-0b52-406d-a399-6a5fabd13e9e"
      },
      "execution_count": null,
      "outputs": [
        {
          "output_type": "execute_result",
          "data": {
            "text/plain": [
              "[-4, 0, 1, 3, 2, 4, 10, 8, 12, 9, 4, 5]"
            ]
          },
          "metadata": {},
          "execution_count": 8
        }
      ]
    },
    {
      "cell_type": "code",
      "source": [
        "# heappop (extract element)\n",
        "#Time: O(log n)\n",
        "\n",
        "minn = heapq.heappop(A)\n",
        "A, minn"
      ],
      "metadata": {
        "colab": {
          "base_uri": "https://localhost:8080/"
        },
        "id": "wdjr4kdi2sJG",
        "outputId": "21d6feaf-5ee5-4011-8b0b-208e6551e7b1"
      },
      "execution_count": null,
      "outputs": [
        {
          "output_type": "execute_result",
          "data": {
            "text/plain": [
              "([0, 2, 1, 3, 4, 4, 10, 8, 12, 9, 5], -4)"
            ]
          },
          "metadata": {},
          "execution_count": 10
        }
      ]
    },
    {
      "cell_type": "code",
      "source": [
        "# heap sort\n",
        "# time : O(n log n) space: O(n)\n",
        "# there is a way to do heap sort in O(1) space but is complicated\n",
        "\n",
        "def heapsort(nums):\n",
        "  heapq.heapify(nums)\n",
        "  n = len(nums)\n",
        "  res = [0] * n\n",
        "  for i in range(n):\n",
        "    minn = heapq.heappop(nums)\n",
        "    res[i] = minn\n",
        "  return res\n",
        "\n",
        "heapsort([1, 3, 5, 7, 9, 2, 4, 6, 8, 0])"
      ],
      "metadata": {
        "colab": {
          "base_uri": "https://localhost:8080/"
        },
        "id": "U59nG87y3bxZ",
        "outputId": "44b785b5-e3a0-445b-8e76-76161dec8dff"
      },
      "execution_count": null,
      "outputs": [
        {
          "output_type": "execute_result",
          "data": {
            "text/plain": [
              "[0, 1, 2, 3, 4, 5, 6, 7, 8, 9]"
            ]
          },
          "metadata": {},
          "execution_count": 12
        }
      ]
    },
    {
      "cell_type": "code",
      "source": [],
      "metadata": {
        "id": "KzhgIrrNID1E"
      },
      "execution_count": null,
      "outputs": []
    }
  ]
}