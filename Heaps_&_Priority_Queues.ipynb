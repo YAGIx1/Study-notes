{
  "nbformat": 4,
  "nbformat_minor": 0,
  "metadata": {
    "colab": {
      "provenance": [],
      "authorship_tag": "ABX9TyNDSKD0JGYiCEScNi+QUb9X",
      "include_colab_link": true
    },
    "kernelspec": {
      "name": "python3",
      "display_name": "Python 3"
    },
    "language_info": {
      "name": "python"
    }
  },
  "cells": [
    {
      "cell_type": "markdown",
      "metadata": {
        "id": "view-in-github",
        "colab_type": "text"
      },
      "source": [
        "<a href=\"https://colab.research.google.com/github/YAGIx1/Study-notes/blob/main/Heaps_%26_Priority_Queues.ipynb\" target=\"_parent\"><img src=\"https://colab.research.google.com/assets/colab-badge.svg\" alt=\"Open In Colab\"/></a>"
      ]
    },
    {
      "cell_type": "code",
      "execution_count": null,
      "metadata": {
        "colab": {
          "base_uri": "https://localhost:8080/"
        },
        "id": "seYnm4as0ABz",
        "outputId": "167da19d-f55d-4dce-a40f-4b974badf4ea"
      },
      "outputs": [
        {
          "output_type": "execute_result",
          "data": {
            "text/plain": [
              "[-4, 0, 1, 3, 2, 5, 10, 8, 12, 9]"
            ]
          },
          "metadata": {},
          "execution_count": 6
        }
      ],
      "source": [
        "A = [-4, 3, 1, 0, 2, 5, 10, 8, 12, 9]\n",
        "import heapq\n",
        "\n",
        "heapq.heapify(A)\n",
        "A"
      ]
    },
    {
      "cell_type": "markdown",
      "source": [
        "#heap push (insert elements)\n",
        "#Time complexity O(log n)"
      ],
      "metadata": {
        "id": "Z_U1CPJx00Vm"
      }
    },
    {
      "cell_type": "code",
      "source": [
        "heapq.heappush(A, 4)\n",
        "A"
      ],
      "metadata": {
        "colab": {
          "base_uri": "https://localhost:8080/"
        },
        "id": "b-3PDiC91l6o",
        "outputId": "40412bed-0b52-406d-a399-6a5fabd13e9e"
      },
      "execution_count": null,
      "outputs": [
        {
          "output_type": "execute_result",
          "data": {
            "text/plain": [
              "[-4, 0, 1, 3, 2, 4, 10, 8, 12, 9, 4, 5]"
            ]
          },
          "metadata": {},
          "execution_count": 8
        }
      ]
    },
    {
      "cell_type": "code",
      "source": [
        "# heappop (extract element)\n",
        "#Time: O(log n)\n",
        "\n",
        "minn = heapq.heappop(A)\n",
        "A, minn"
      ],
      "metadata": {
        "colab": {
          "base_uri": "https://localhost:8080/"
        },
        "id": "wdjr4kdi2sJG",
        "outputId": "21d6feaf-5ee5-4011-8b0b-208e6551e7b1"
      },
      "execution_count": null,
      "outputs": [
        {
          "output_type": "execute_result",
          "data": {
            "text/plain": [
              "([0, 2, 1, 3, 4, 4, 10, 8, 12, 9, 5], -4)"
            ]
          },
          "metadata": {},
          "execution_count": 10
        }
      ]
    },
    {
      "cell_type": "code",
      "source": [
        "# heap sort\n",
        "# time : O(n log n) space: O(n)\n",
        "# there is a way to do heap sort in O(1) space but is complicated\n",
        "\n",
        "def heapsort(nums):\n",
        "  heapq.heapify(nums)\n",
        "  n = len(nums)\n",
        "  res = [0] * n\n",
        "  for i in range(n):\n",
        "    minn = heapq.heappop(nums)\n",
        "    res[i] = minn\n",
        "  return res\n",
        "\n",
        "heapsort([1, 3, 5, 7, 9, 2, 4, 6, 8, 0])"
      ],
      "metadata": {
        "colab": {
          "base_uri": "https://localhost:8080/"
        },
        "id": "U59nG87y3bxZ",
        "outputId": "44b785b5-e3a0-445b-8e76-76161dec8dff"
      },
      "execution_count": null,
      "outputs": [
        {
          "output_type": "execute_result",
          "data": {
            "text/plain": [
              "[0, 1, 2, 3, 4, 5, 6, 7, 8, 9]"
            ]
          },
          "metadata": {},
          "execution_count": 12
        }
      ]
    },
    {
      "cell_type": "code",
      "source": [
        "#heap push pop\n",
        "\n",
        "heapq.heappushpop(A, 99)\n",
        "\n",
        "A"
      ],
      "metadata": {
        "id": "KzhgIrrNID1E",
        "colab": {
          "base_uri": "https://localhost:8080/"
        },
        "outputId": "be7dd33f-535b-4da6-eb0c-8d94f93e0039"
      },
      "execution_count": null,
      "outputs": [
        {
          "output_type": "execute_result",
          "data": {
            "text/plain": [
              "[1, 2, 4, 3, 4, 99, 10, 8, 12, 9, 5]"
            ]
          },
          "metadata": {},
          "execution_count": 13
        }
      ]
    },
    {
      "cell_type": "code",
      "source": [
        "# Max heap\n",
        "\n",
        "B = [-4, 3, 1, 0, 2, 5, 10, 8, 12, 9]\n",
        "\n",
        "n = len(B)\n",
        "\n",
        "for i in range(n):\n",
        "  B[i] = - B[i]\n",
        "\n",
        "heapq.heapify(B)\n",
        "B"
      ],
      "metadata": {
        "colab": {
          "base_uri": "https://localhost:8080/"
        },
        "id": "OMGhVKzQKf5J",
        "outputId": "f51612bb-4365-43c0-8a9e-dec88b49a9a5"
      },
      "execution_count": null,
      "outputs": [
        {
          "output_type": "execute_result",
          "data": {
            "text/plain": [
              "[-12, -9, -10, -8, -2, -5, -1, -3, 0, 4]"
            ]
          },
          "metadata": {},
          "execution_count": 14
        }
      ]
    },
    {
      "cell_type": "code",
      "source": [
        "largest = -heapq.heappop(B)\n",
        "largest"
      ],
      "metadata": {
        "colab": {
          "base_uri": "https://localhost:8080/"
        },
        "id": "XXG7NXMVK-5N",
        "outputId": "e738e40b-50b0-4c2f-cc62-98e486a81b7d"
      },
      "execution_count": null,
      "outputs": [
        {
          "output_type": "execute_result",
          "data": {
            "text/plain": [
              "12"
            ]
          },
          "metadata": {},
          "execution_count": 15
        }
      ]
    },
    {
      "cell_type": "code",
      "source": [
        "# inserting element in max heap\n",
        "\n",
        "heapq.heappush(B, -7)\n",
        "\n",
        "B"
      ],
      "metadata": {
        "colab": {
          "base_uri": "https://localhost:8080/"
        },
        "id": "dO9BxPjTLPUb",
        "outputId": "3d1dbe7a-b96b-4e30-ff31-d1833fb9f393"
      },
      "execution_count": null,
      "outputs": [
        {
          "output_type": "execute_result",
          "data": {
            "text/plain": [
              "[-10, -9, -5, -8, -7, 4, -1, -3, 0, -2]"
            ]
          },
          "metadata": {},
          "execution_count": 16
        }
      ]
    },
    {
      "cell_type": "code",
      "source": [
        "# BUild heap from scratch\n",
        "# time complexity to build heap is O(n log n) but using heapify it is O(N) so heapufy is simpify faster\n",
        "C = [-5, 4, 2, 1, 7, 0, 3]\n",
        "\n",
        "heap = []\n",
        "\n",
        "for x in C:\n",
        "  heapq.heappush(heap, x)\n",
        "  print(heap, len(heap))"
      ],
      "metadata": {
        "colab": {
          "base_uri": "https://localhost:8080/"
        },
        "id": "D_lR-2N8LfsF",
        "outputId": "c7a95743-4fc5-4eab-c39e-c7ef28dccfd7"
      },
      "execution_count": null,
      "outputs": [
        {
          "output_type": "stream",
          "name": "stdout",
          "text": [
            "[-5] 1\n",
            "[-5, 4] 2\n",
            "[-5, 4, 2] 3\n",
            "[-5, 1, 2, 4] 4\n",
            "[-5, 1, 2, 4, 7] 5\n",
            "[-5, 1, 0, 4, 7, 2] 6\n",
            "[-5, 1, 0, 4, 7, 2, 3] 7\n"
          ]
        }
      ]
    },
    {
      "cell_type": "code",
      "source": [
        " # put tuple values in heap\n",
        "\n",
        " A = [5,5,5,5,4,4,4,3,3,2,2,1]\n",
        "\n",
        " from collections import Counter\n",
        " heap = []\n",
        " counter = Counter(A)\n",
        " for k, v in counter.items():\n",
        "  heapq.heappush(heap, (v, k))\n",
        "heap"
      ],
      "metadata": {
        "colab": {
          "base_uri": "https://localhost:8080/"
        },
        "id": "J89wHn-UNC05",
        "outputId": "67e172a3-36e0-4ea2-9ecd-870c1a736e9a"
      },
      "execution_count": null,
      "outputs": [
        {
          "output_type": "execute_result",
          "data": {
            "text/plain": [
              "[(1, 1), (2, 2), (3, 4), (4, 5), (2, 3)]"
            ]
          },
          "metadata": {},
          "execution_count": 23
        }
      ]
    },
    {
      "cell_type": "markdown",
      "source": [],
      "metadata": {
        "id": "HepP2n71LfVT"
      }
    }
  ]
}